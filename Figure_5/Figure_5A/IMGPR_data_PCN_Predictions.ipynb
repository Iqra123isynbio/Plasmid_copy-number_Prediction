{
 "cells": [
  {
   "cell_type": "code",
   "execution_count": null,
   "id": "e9319ad3",
   "metadata": {},
   "outputs": [],
   "source": [
    "import pandas as pd\n",
    "import joblib  \n",
    "\n",
    "# Load the dataset to predict\n",
    "new_data_file = 'Fig5_data.csv'  #Supplementary file 5\n",
    "new_data = pd.read_csv(new_data_file, low_memory=False)  "
   ]
  },
  {
   "cell_type": "code",
   "execution_count": null,
   "id": "d497c646",
   "metadata": {},
   "outputs": [],
   "source": [
    "\n",
    "# Parameters used in training\n",
    "start_idx = 1  \n",
    "kmer_count = 84\n",
    "end_idx = start_idx + kmer_count  \n",
    "domain_start = end_idx\n",
    "domain_count = 1288\n",
    "domain_end = domain_start + domain_count \n",
    "length_cols = ['Plasmid_Length']  \n"
   ]
  },
  {
   "cell_type": "code",
   "execution_count": null,
   "id": "f5864363",
   "metadata": {},
   "outputs": [
    {
     "name": "stdout",
     "output_type": "stream",
     "text": [
      "Predicted PCN values: [2.93045457 2.98475321 3.02563178 3.89747341 2.90550933 2.95011027\n",
      " 2.93219926 2.89777094 2.93836223 2.93071733]\n",
      "Predictions successfully made and saved to 'Fig5_data_with_predictions.csv'.\n"
     ]
    }
   ],
   "source": [
    "\n",
    "# Extract K-mers, Domains, and Lengths for the new dataset\n",
    "X_kmers_new = new_data.iloc[:, start_idx:end_idx]\n",
    "X_domains_new = new_data.iloc[:, domain_start:domain_end]\n",
    "X_lengths_new = new_data[length_cols]\n",
    "\n",
    "# Combine features like done before\n",
    "X_all_new = pd.concat([X_domains_new, X_kmers_new, X_lengths_new], axis=1)\n",
    "\n",
    "# Load the trained model\n",
    "model = joblib.load('rf_model_final_excluding_chromosome.pkl')\n",
    "\n",
    "# Predict PCN\n",
    "predictions = model.predict(X_all_new)\n",
    "\n",
    "# Show the predicted values\n",
    "print(f\"Predicted PCN values: {predictions[:10]}\")  \n",
    "\n",
    "new_data['Predicted_PCN'] = predictions\n",
    "new_data.to_csv('Fig5_data_with_predictions.csv', index=False)\n",
    "\n",
    "# Print confirmation\n",
    "print(\"Predictions successfully made and saved to 'Fig5_data_with_predictions.csv'.\")\n"
   ]
  }
 ],
 "metadata": {
  "kernelspec": {
   "display_name": "Python 3",
   "language": "python",
   "name": "python3"
  },
  "language_info": {
   "codemirror_mode": {
    "name": "ipython",
    "version": 3
   },
   "file_extension": ".py",
   "mimetype": "text/x-python",
   "name": "python",
   "nbconvert_exporter": "python",
   "pygments_lexer": "ipython3",
   "version": "3.10.12"
  }
 },
 "nbformat": 4,
 "nbformat_minor": 5
}
