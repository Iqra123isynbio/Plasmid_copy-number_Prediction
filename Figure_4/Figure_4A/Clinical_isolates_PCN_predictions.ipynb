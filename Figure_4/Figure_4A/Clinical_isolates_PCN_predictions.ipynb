{
 "cells": [
  {
   "cell_type": "code",
   "execution_count": 13,
   "id": "9446ccde",
   "metadata": {},
   "outputs": [],
   "source": [
    "import numpy as np"
   ]
  },
  {
   "cell_type": "code",
   "execution_count": null,
   "id": "caaf3fa0",
   "metadata": {},
   "outputs": [],
   "source": [
    "import joblib\n",
    "\n",
    "# Load the saved model\n",
    "model_path = \"rf_model_final.pkl\"\n",
    "rf_model_final = joblib.load(model_path)\n",
    "\n",
    "# If you used pickle, you can use:\n",
    "# with open(model_path, 'rb') as file:\n",
    "#     rf_model_final = pickle.load(file)\n"
   ]
  },
  {
   "cell_type": "code",
   "execution_count": null,
   "id": "b396cbfb",
   "metadata": {},
   "outputs": [],
   "source": [
    "import pandas as pd\n",
    "\n",
    "# Path in mnt format\n",
    "file_path = \"Figure_4_data.csv\"\n",
    "\n",
    "# Load the CSV file\n",
    "df = pd.read_csv(file_path)\n",
    "\n",
    "# Display the first few rows of the dataframe to verify\n",
    "print(df.head())\n"
   ]
  },
  {
   "cell_type": "code",
   "execution_count": 6,
   "id": "79f9da63",
   "metadata": {},
   "outputs": [],
   "source": [
    "# Select feature columns based on the indices you provided\n",
    "X_kmers = df.iloc[:, 2:86]  # K-mers columns (from column 3 to column 86)\n",
    "X_domains = df.iloc[:, 86:86 + 1288]  # Domains columns (from column 85 onward)\n",
    "X_total_chromosome_length = df[['Total_Chromosome_Length']]  # Total Chromosome Length\n",
    "X_plasmid_length = df[['Plasmid_Length']]  # Plasmid Length\n"
   ]
  },
  {
   "cell_type": "code",
   "execution_count": null,
   "id": "5da6e7f3",
   "metadata": {},
   "outputs": [],
   "source": [
    "# Check the number of columns and the names for each individual feature\n",
    "\n",
    "# K-mers columns\n",
    "print(\"Number of K-mers columns:\", X_kmers.shape[1])\n",
    "print(\"Names of K-mers columns:\")\n",
    "print(X_kmers.columns.tolist())\n",
    "\n",
    "# Domains columns\n",
    "print(\"Number of Domains columns:\", X_domains.shape[1])\n",
    "print(\"Names of Domains columns:\")\n",
    "print(X_domains.columns.tolist())\n",
    "\n",
    "# Total Chromosome Length column\n",
    "print(\"Number of Total Chromosome Length column:\", X_total_chromosome_length.shape[1])\n",
    "print(\"Names of Total Chromosome Length column:\")\n",
    "print(X_total_chromosome_length.columns.tolist())\n",
    "\n",
    "# Plasmid Length column\n",
    "print(\"Number of Plasmid Length column:\", X_plasmid_length.shape[1])\n",
    "print(\"Names of Plasmid Length column:\")\n",
    "print(X_plasmid_length.columns.tolist())\n"
   ]
  },
  {
   "cell_type": "code",
   "execution_count": null,
   "id": "b6797459",
   "metadata": {},
   "outputs": [],
   "source": [
    "# Assuming you have already defined the features for K-mers, Domains, Chromosome Length, and Plasmid Length\n",
    "X_new = pd.concat([X_kmers, X_domains, X_total_chromosome_length, X_plasmid_length], axis=1)\n",
    "\n",
    "# Ensure the feature columns are in the same order as they were during training\n",
    "# You can print X_new.head() to verify that the features are in the correct order\n",
    "print(X_new.head())\n"
   ]
  },
  {
   "cell_type": "code",
   "execution_count": null,
   "id": "7282fb38",
   "metadata": {},
   "outputs": [],
   "source": [
    "# Make predictions using the loaded model\n",
    "y_pred_new = rf_model_final.predict(X_new)\n",
    "\n",
    "# Print the predicted values\n",
    "print(\"Predictions:\", y_pred_new)\n"
   ]
  },
  {
   "cell_type": "code",
   "execution_count": 14,
   "id": "009470e4",
   "metadata": {},
   "outputs": [],
   "source": [
    "# Back-transform the predictions if needed\n",
    "y_pred_new_backtransformed = np.expm1(y_pred_new)  # Apply inverse of log1p"
   ]
  },
  {
   "cell_type": "code",
   "execution_count": 15,
   "id": "a72c9b08",
   "metadata": {},
   "outputs": [],
   "source": [
    "# Add both predictions to the original DataFrame\n",
    "df['Predicted_PCN'] = y_pred_new  # Original predictions (log scale)\n",
    "df['Predicted_PCN_backtransformed'] = y_pred_new_backtransformed  # Back-transformed predictions\n"
   ]
  },
  {
   "cell_type": "code",
   "execution_count": null,
   "id": "55bc596b",
   "metadata": {},
   "outputs": [],
   "source": [
    "# Save the DataFrame back to the same CSV file (overwrite the original file)\n",
    "df.to_csv(file_path, index=False)  # Save to CSV without the index column\n",
    "\n",
    "print(f\"Predictions saved to the original file: {file_path}\")"
   ]
  }
 ],
 "metadata": {
  "kernelspec": {
   "display_name": "Python 3",
   "language": "python",
   "name": "python3"
  },
  "language_info": {
   "codemirror_mode": {
    "name": "ipython",
    "version": 3
   },
   "file_extension": ".py",
   "mimetype": "text/x-python",
   "name": "python",
   "nbconvert_exporter": "python",
   "pygments_lexer": "ipython3",
   "version": "3.10.12"
  }
 },
 "nbformat": 4,
 "nbformat_minor": 5
}
